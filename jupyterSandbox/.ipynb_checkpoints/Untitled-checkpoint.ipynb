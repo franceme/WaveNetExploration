{
 "cells": [
  {
   "cell_type": "code",
   "execution_count": 2,
   "metadata": {},
   "outputs": [],
   "source": [
    "#Importing all of the files\n",
    "\n",
    "%matplotlib notebook\n",
    "\n",
    "import os,sys,re\n",
    "import numpy as np\n",
    "import matplotlib.pyplot as plt"
   ]
  },
  {
   "cell_type": "code",
   "execution_count": 5,
   "metadata": {},
   "outputs": [],
   "source": [
    "#Setting all of the results\n",
    "\n",
    "file = 'training.txt'\n",
    "restartFile = 'generation.txt'\n",
    "restartPattern = 'Restarting the service at '\n",
    "pattern = re.compile('step [0-9]+ - loss = [0-9]+.[0-9]*, \\([0-9]+.[0-9]* sec\\/step\\)')\n",
    "numbah = re.compile(r'[0-9]+\\.?[0-9]*')\n",
    "restartTimePattern = re.compile(r'[0-9]{13}')\n",
    "results = {}\n",
    "trendline = 50\n",
    "restart = []\n",
    "stoppedSteps = [343, 870, 1010]\n",
    "genreLyst = {\n",
    "    'classical': 730,\n",
    "    'hardcore': 550, \n",
    "    'hip': 2836, \n",
    "    'metal': 6358, \n",
    "    'rock': 7366\n",
    "}"
   ]
  },
  {
   "cell_type": "code",
   "execution_count": 6,
   "metadata": {},
   "outputs": [
    {
     "name": "stdout",
     "output_type": "stream",
     "text": [
      "36275.488\n",
      "604.5914666666666\n",
      "10.076524444444443\n",
      "1909.2362105263157\n",
      "31.820603508771928\n"
     ]
    }
   ],
   "source": [
    "timelisting = []\n",
    "pre = 0\n",
    "with open(restartFile,'r') as foil:\n",
    "    line = foil.readline()\n",
    "    while line:\n",
    "        if len(restartTimePattern.findall(line)) == 1:\n",
    "            if (pre == 0):\n",
    "                pre = float(line)\n",
    "            else:\n",
    "                timelisting += [((float(line) - pre))/1000]\n",
    "                pre = float(line)\n",
    "        line = foil.readline()\n",
    "timeSum = sum(timelisting)\n",
    "print(timeSum) #Sum Seconds\n",
    "print(timeSum/60) #Sum Minutes\n",
    "print(timeSum/60/60) #Sum Hours\n",
    "print(timeSum/len(timelisting)) #Seconds\n",
    "print((timeSum/len(timelisting))/60) #Minutes"
   ]
  },
  {
   "cell_type": "code",
   "execution_count": null,
   "metadata": {},
   "outputs": [],
   "source": [
    "figTen = plt.figure(10)\n",
    "axTen = figTen.add_subplot(111)\n",
    "axTen.plot(range(len(timelisting)), timelisting, color='blue', linewidth=2)\n",
    "axTen.set(title='Speed of generating', ylabel='Time (s)', xlabel='Checkpoint Number')\n",
    "\n",
    "axTen.legend(loc='upper right')\n",
    "#plt.savefig('GeneratingTime.svg')"
   ]
  },
  {
   "cell_type": "code",
   "execution_count": null,
   "metadata": {},
   "outputs": [],
   "source": [
    "with open(file, 'r') as foil:\n",
    "    line, restartFlag = foil.readline(), False\n",
    "    while line:\n",
    "        isStep = pattern.match(line) != None and len(numbah.findall(line)) == 3\n",
    "        if isStep:\n",
    "            step, loss, speed = numbah.findall(line)\n",
    "            results[step] = {'loss':loss, 'speed':speed}\n",
    "            if restartFlag:\n",
    "                restartFlag = False\n",
    "                restart += [int(step)-1]\n",
    "        elif line.startswith(restartPattern):\n",
    "            restartFlag = True\n",
    "        line = foil.readline()\n",
    "\n",
    "x = [float(x) for x in results.keys()]\n",
    "loss, speed = [float(results[x]['loss']) for x in results.keys()], [float(results[x]['speed']) for x in results.keys()]\n",
    "totalTime, maxStep = sum(speed), max([int(x) for x in list(results.keys())])"
   ]
  }
 ],
 "metadata": {
  "kernelspec": {
   "display_name": "Python 3",
   "language": "python",
   "name": "python3"
  },
  "language_info": {
   "codemirror_mode": {
    "name": "ipython",
    "version": 3
   },
   "file_extension": ".py",
   "mimetype": "text/x-python",
   "name": "python",
   "nbconvert_exporter": "python",
   "pygments_lexer": "ipython3",
   "version": "3.7.3"
  }
 },
 "nbformat": 4,
 "nbformat_minor": 2
}

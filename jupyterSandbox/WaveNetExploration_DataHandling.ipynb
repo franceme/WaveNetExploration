{
 "cells": [
  {
   "cell_type": "code",
   "execution_count": null,
   "metadata": {},
   "outputs": [],
   "source": [
    "#Importing all of the files\n",
    "%matplotlib notebook\n",
    "\n",
    "import os,sys,re\n",
    "import numpy as np\n",
    "import matplotlib.pyplot as plt"
   ]
  },
  {
   "cell_type": "code",
   "execution_count": null,
   "metadata": {},
   "outputs": [],
   "source": [
    "#Setting all of the results\n",
    "\n",
    "#Stripped sub-results files, stripped out everything but the relevant printout data\n",
    "file = 'training.txt'\n",
    "restartFile = 'generation.txt'\n",
    "\n",
    "#Regex-like patters to identify strings\n",
    "restartPattern = 'Restarting the service at '\n",
    "pattern = re.compile('step [0-9]+ - loss = [0-9]+.[0-9]*, \\([0-9]+.[0-9]* sec\\/step\\)')\n",
    "numbah = re.compile(r'[0-9]+\\.?[0-9]*')\n",
    "restartTimePattern = re.compile(r'[0-9]{13}')\n",
    "\n",
    "#Manually set these based on best averaging and hard system stops\n",
    "trendline = 50\n",
    "stoppedSteps = [343, 870, 1010]\n",
    "\n",
    "#Containers\n",
    "results = {}\n",
    "restart = []\n",
    "\n",
    "#Retrieved from the raw audio sample files\n",
    "genreLyst = {\n",
    "    'classical': 365, \n",
    "    'hardcore': 275, \n",
    "    'hip': 1418, \n",
    "    'metal': 3179, \n",
    "    'rock': 3683\n",
    "}"
   ]
  },
  {
   "cell_type": "code",
   "execution_count": null,
   "metadata": {},
   "outputs": [],
   "source": [
    "#Parsing the raw print out of the results file\n",
    "with open(file, 'r') as foil:\n",
    "    line, restartFlag = foil.readline(), False\n",
    "    while line:\n",
    "        #if the line matches the following syntax:\n",
    "        # step ##### - loss = #.###, (##.### sec/step)\n",
    "        isStep = pattern.match(line) != None and len(numbah.findall(line)) == 3\n",
    "        if isStep:\n",
    "            #Retrieving all of the numbers from the line \n",
    "            step, loss, speed = numbah.findall(line)\n",
    "            results[step] = {'loss':loss, 'speed':speed}\n",
    "            if restartFlag:\n",
    "                restartFlag = False\n",
    "                restart += [int(step)-1]\n",
    "        elif line.startswith(restartPattern):\n",
    "            restartFlag = True\n",
    "        line = foil.readline()"
   ]
  },
  {
   "cell_type": "code",
   "execution_count": null,
   "metadata": {},
   "outputs": [],
   "source": [
    "#Transforming the keys to a numeric list\n",
    "x = [float(x) for x in results.keys()]\n",
    "\n",
    "#Retrieving the loss and speed values as a numeric list\n",
    "loss, speed = [float(results[x]['loss']) for x in results.keys()], [float(results[x]['speed']) for x in results.keys()]\n",
    "\n",
    "#Retrieving the total and the max for the speed and the steps\n",
    "totalTime, maxStep = sum(speed), max([int(x) for x in list(results.keys())])"
   ]
  },
  {
   "cell_type": "code",
   "execution_count": null,
   "metadata": {},
   "outputs": [],
   "source": [
    "fig = plt.figure(0)\n",
    "ax = fig.add_subplot(111)\n",
    "ax.plot(x, loss, color='blue', label='Loss', linewidth=1)\n",
    "ax.set(title='Loss vs Step ('+str(maxStep)+' steps)', ylabel='Loss', xlabel='Step')\n",
    "\n",
    "#Trendline\n",
    "z = np.polyfit(x, loss, trendline)\n",
    "p = np.poly1d(z)\n",
    "ax.plot(x,p(x),'r-', label='Trendline')\n",
    "\n",
    "for stop in restart:\n",
    "    plt.axvline(x=stop, linewidth='1', color = 'black')\n",
    "for stop in stoppedSteps:\n",
    "    plt.axvline(x=stop, linewidth='1', color = 'yellow')\n",
    "\n",
    "ax.legend(loc='upper right')"
   ]
  },
  {
   "cell_type": "code",
   "execution_count": null,
   "metadata": {},
   "outputs": [],
   "source": [
    "fig2 = plt.figure(1)\n",
    "axs = fig2.add_subplot(111)\n",
    "axs.plot(x, speed, color='green', label='Speed (Secs/Step)', linewidth=1)\n",
    "axs.set(title='Speed Taken per Step (out of '+str(int(totalTime)) +' sec)', ylabel='Speed', xlabel='Step')\n",
    "\n",
    "#Trendline\n",
    "zTwo = np.polyfit(x, speed, trendline)\n",
    "pTwo = np.poly1d(zTwo)\n",
    "axs.plot(x,pTwo(x),'r-', label='Trendline')\n",
    "\n",
    "for stop in restart:\n",
    "    plt.axvline(x=stop, linewidth='1', color = 'black')\n",
    "for stop in stoppedSteps:\n",
    "    plt.axvline(x=stop, linewidth='1', color = 'yellow')\n",
    "\n",
    "axs.legend(loc='upper left')"
   ]
  },
  {
   "cell_type": "code",
   "execution_count": null,
   "metadata": {},
   "outputs": [],
   "source": [
    "genreCounts = [int(genreLyst[x]) for x in genreLyst.keys()]\n",
    "\n",
    "#Mimicing a graph from https://matplotlib.org\n",
    "# Raw url: https://matplotlib.org/3.1.1/gallery/pie_and_polar_charts/pie_and_donut_labels.html#sphx-glr-gallery-pie-and-polar-charts-pie-and-donut-labels-py\n",
    "def func(pct, allvals):\n",
    "    absolute = int(pct/100.*np.sum(allvals))\n",
    "    return \"{:.1f}%: ({:d} songs)\".format(pct, absolute)\n",
    "\n",
    "fig3 = plt.figure(2)\n",
    "axss = fig3.add_subplot(111)\n",
    "wedges, texts, autotexts = axss.pie(genreCounts, \n",
    "                                    labels=genreLyst.keys(), \n",
    "                                    autopct=lambda pct: func(pct, genreCounts), \n",
    "                                    shadow=True, \n",
    "                                    startangle=0)\n",
    "#Mimicing a graph from https://matplotlib.org\n",
    "# Raw url: https://matplotlib.org/3.1.1/gallery/pie_and_polar_charts/pie_and_donut_labels.html#sphx-glr-gallery-pie-and-polar-charts-pie-and-donut-labels-py\n",
    "axss.legend(wedges, genreLyst.keys(),\n",
    "          title=\"Song Genres\",\n",
    "          loc=\"upper left\",\n",
    "          bbox_to_anchor=(1, 0, 0.5, 1))"
   ]
  },
  {
   "cell_type": "code",
   "execution_count": null,
   "metadata": {},
   "outputs": [],
   "source": [
    "#Reading the Generation time for all of the 20 generated samples\n",
    "\n",
    "timelisting = []\n",
    "pre = 0\n",
    "\n",
    "#Reading the restart file\n",
    "with open(restartFile,'r') as foil:\n",
    "    line = foil.readline()\n",
    "    while line:\n",
    "        # If the line matches the pattern:\n",
    "        # #############\n",
    "        if len(restartTimePattern.findall(line)) == 1:\n",
    "            if (pre == 0):\n",
    "                pre = float(line)\n",
    "            else:\n",
    "                #Finding the difference between the previous time and the current time\n",
    "                timelisting += [((float(line) - pre))/1000]\n",
    "                pre = float(line)\n",
    "        line = foil.readline()\n",
    "timeSum = sum(timelisting)\n",
    "print(timeSum) #Sum Seconds\n",
    "print(timeSum/60) #Sum Minutes\n",
    "print(timeSum/60/60) #Sum Hours\n",
    "print(timeSum/len(timelisting)) #Seconds\n",
    "print((timeSum/len(timelisting))/60) #Minutes"
   ]
  },
  {
   "cell_type": "code",
   "execution_count": null,
   "metadata": {},
   "outputs": [],
   "source": [
    "figTen = plt.figure(10)\n",
    "axTen = figTen.add_subplot(111)\n",
    "axTen.plot(range(len(timelisting)), timelisting, color='blue', linewidth=2)\n",
    "axTen.set(title='Speed of generating', ylabel='Time (s)', xlabel='Checkpoint Number')\n",
    "\n",
    "axTen.legend(loc='upper right')"
   ]
  }
 ],
 "metadata": {
  "kernelspec": {
   "display_name": "Python 3",
   "language": "python",
   "name": "python3"
  },
  "language_info": {
   "codemirror_mode": {
    "name": "ipython",
    "version": 3
   },
   "file_extension": ".py",
   "mimetype": "text/x-python",
   "name": "python",
   "nbconvert_exporter": "python",
   "pygments_lexer": "ipython3",
   "version": "3.7.3"
  }
 },
 "nbformat": 4,
 "nbformat_minor": 2
}
